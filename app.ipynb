{
  "nbformat": 4,
  "nbformat_minor": 0,
  "metadata": {
    "colab": {
      "provenance": [],
      "authorship_tag": "ABX9TyMRouJcr8CJF6xS2HO/0TIw",
      "include_colab_link": true
    },
    "kernelspec": {
      "name": "python3",
      "display_name": "Python 3"
    },
    "language_info": {
      "name": "python"
    }
  },
  "cells": [
    {
      "cell_type": "markdown",
      "metadata": {
        "id": "view-in-github",
        "colab_type": "text"
      },
      "source": [
        "<a href=\"https://colab.research.google.com/github/ilman79/Machine-Learning/blob/main/app.ipynb\" target=\"_parent\"><img src=\"https://colab.research.google.com/assets/colab-badge.svg\" alt=\"Open In Colab\"/></a>"
      ]
    },
    {
      "cell_type": "code",
      "execution_count": 1,
      "metadata": {
        "colab": {
          "base_uri": "https://localhost:8080/"
        },
        "id": "9aZFe4sxcnkr",
        "outputId": "1b9966b3-02f9-4eb5-8ace-07b305aadb0b"
      },
      "outputs": [
        {
          "output_type": "stream",
          "name": "stdout",
          "text": [
            "Looking in indexes: https://pypi.org/simple, https://us-python.pkg.dev/colab-wheels/public/simple/\n",
            "Requirement already satisfied: flask in /usr/local/lib/python3.10/dist-packages (2.2.4)\n",
            "Requirement already satisfied: Werkzeug>=2.2.2 in /usr/local/lib/python3.10/dist-packages (from flask) (2.3.0)\n",
            "Requirement already satisfied: Jinja2>=3.0 in /usr/local/lib/python3.10/dist-packages (from flask) (3.1.2)\n",
            "Requirement already satisfied: itsdangerous>=2.0 in /usr/local/lib/python3.10/dist-packages (from flask) (2.1.2)\n",
            "Requirement already satisfied: click>=8.0 in /usr/local/lib/python3.10/dist-packages (from flask) (8.1.3)\n",
            "Requirement already satisfied: MarkupSafe>=2.0 in /usr/local/lib/python3.10/dist-packages (from Jinja2>=3.0->flask) (2.1.2)\n"
          ]
        }
      ],
      "source": [
        "!pip install flask"
      ]
    },
    {
      "cell_type": "code",
      "source": [
        "from flask import Flask, request, jsonify\n",
        "import torch\n",
        "from PIL import Image\n",
        "from torchvision.transforms import functional as F\n",
        "from yolov5.models.experimental import attempt_load\n",
        "from yolov5.utils.general import non_max_suppression, scale_coords"
      ],
      "metadata": {
        "colab": {
          "base_uri": "https://localhost:8080/",
          "height": 356
        },
        "id": "BstOSb7vc8hT",
        "outputId": "f234c366-74c3-4a05-b17c-e0709ba311d1"
      },
      "execution_count": 2,
      "outputs": [
        {
          "output_type": "error",
          "ename": "ModuleNotFoundError",
          "evalue": "ignored",
          "traceback": [
            "\u001b[0;31m---------------------------------------------------------------------------\u001b[0m",
            "\u001b[0;31mModuleNotFoundError\u001b[0m                       Traceback (most recent call last)",
            "\u001b[0;32m<ipython-input-2-85761ff2fc13>\u001b[0m in \u001b[0;36m<cell line: 5>\u001b[0;34m()\u001b[0m\n\u001b[1;32m      3\u001b[0m \u001b[0;32mfrom\u001b[0m \u001b[0mPIL\u001b[0m \u001b[0;32mimport\u001b[0m \u001b[0mImage\u001b[0m\u001b[0;34m\u001b[0m\u001b[0;34m\u001b[0m\u001b[0m\n\u001b[1;32m      4\u001b[0m \u001b[0;32mfrom\u001b[0m \u001b[0mtorchvision\u001b[0m\u001b[0;34m.\u001b[0m\u001b[0mtransforms\u001b[0m \u001b[0;32mimport\u001b[0m \u001b[0mfunctional\u001b[0m \u001b[0;32mas\u001b[0m \u001b[0mF\u001b[0m\u001b[0;34m\u001b[0m\u001b[0;34m\u001b[0m\u001b[0m\n\u001b[0;32m----> 5\u001b[0;31m \u001b[0;32mfrom\u001b[0m \u001b[0myolov5\u001b[0m\u001b[0;34m.\u001b[0m\u001b[0mmodels\u001b[0m\u001b[0;34m.\u001b[0m\u001b[0mexperimental\u001b[0m \u001b[0;32mimport\u001b[0m \u001b[0mattempt_load\u001b[0m\u001b[0;34m\u001b[0m\u001b[0;34m\u001b[0m\u001b[0m\n\u001b[0m\u001b[1;32m      6\u001b[0m \u001b[0;32mfrom\u001b[0m \u001b[0myolov5\u001b[0m\u001b[0;34m.\u001b[0m\u001b[0mutils\u001b[0m\u001b[0;34m.\u001b[0m\u001b[0mgeneral\u001b[0m \u001b[0;32mimport\u001b[0m \u001b[0mnon_max_suppression\u001b[0m\u001b[0;34m,\u001b[0m \u001b[0mscale_coords\u001b[0m\u001b[0;34m\u001b[0m\u001b[0;34m\u001b[0m\u001b[0m\n",
            "\u001b[0;31mModuleNotFoundError\u001b[0m: No module named 'yolov5'",
            "",
            "\u001b[0;31m---------------------------------------------------------------------------\u001b[0;32m\nNOTE: If your import is failing due to a missing package, you can\nmanually install dependencies using either !pip or !apt.\n\nTo view examples of installing some common dependencies, click the\n\"Open Examples\" button below.\n\u001b[0;31m---------------------------------------------------------------------------\u001b[0m\n"
          ],
          "errorDetails": {
            "actions": [
              {
                "action": "open_url",
                "actionText": "Open Examples",
                "url": "/notebooks/snippets/importing_libraries.ipynb"
              }
            ]
          }
        }
      ]
    },
    {
      "cell_type": "code",
      "source": [
        "app = Flask(__name__)"
      ],
      "metadata": {
        "id": "f9_AlgJudI77"
      },
      "execution_count": 10,
      "outputs": []
    },
    {
      "cell_type": "code",
      "source": [
        "@app.route('/detect', methods=['POST'])\n",
        "def detect():\n",
        "    # Memeriksa apakah ada file gambar dalam permintaan\n",
        "    if 'image' not in request.files:\n",
        "        return jsonify({'error': 'No image found.'}), 400\n",
        "\n",
        "    # Memuat gambar dari permintaan\n",
        "    image = Image.open(request.files['image']).convert('RGB')\n",
        "\n",
        "    # Mengubah gambar menjadi tensor\n",
        "    image_tensor = F.to_tensor(image)\n",
        "\n",
        "    # Menambahkan dimensi batch pada tensor gambar\n",
        "    image_tensor = image_tensor.unsqueeze(0)\n",
        "\n",
        "    # Memeriksa apakah ada GPU yang tersedia\n",
        "    device = torch.device('cuda' if torch.cuda.is_available() else 'cpu')\n",
        "\n",
        "    # Memuat model YOLOv5\n",
        "    model = attempt_load('best.pt', map_location=device)\n",
        "\n",
        "    # Menggunakan model untuk mendeteksi objek pada gambar\n",
        "    detections = model(image_tensor.to(device))[0]\n",
        "\n",
        "    # Menerapkan non-maximum suppression untuk membatasi hasil deteksi\n",
        "    detections = non_max_suppression(detections, conf_thres=0.3, iou_thres=0.45)\n",
        "\n",
        "    # Mengubah koordinat deteksi ke dalam skala gambar asli\n",
        "    scale_coords(image.size, detections[0][:, :4], image.size)\n",
        "\n",
        "    # Membuat daftar hasil deteksi dalam format yang dapat dijsonifikasi\n",
        "    results = []\n",
        "    for x1, y1, x2, y2, conf, cls in detections[0]:\n",
        "        results.append({\n",
        "            'class': int(cls),\n",
        "            'confidence': float(conf),\n",
        "            'bounding_box': {\n",
        "                'x1': float(x1),\n",
        "                'y1': float(y1),\n",
        "                'x2': float(x2),\n",
        "                'y2': float(y2)\n",
        "            }\n",
        "        })\n",
        "\n",
        "    # Mengembalikan hasil deteksi dalam format JSON\n",
        "    return jsonify({'detections': results}), 200\n"
      ],
      "metadata": {
        "id": "7vzRGKg-dLsG"
      },
      "execution_count": 11,
      "outputs": []
    },
    {
      "cell_type": "code",
      "source": [
        "if __name__ == '__main__':\n",
        "    app.run()"
      ],
      "metadata": {
        "colab": {
          "base_uri": "https://localhost:8080/"
        },
        "id": "ngyv063wdOTu",
        "outputId": "9a16abc3-f615-4f3f-ee48-c9a1a6bf93d6"
      },
      "execution_count": 6,
      "outputs": [
        {
          "output_type": "stream",
          "name": "stdout",
          "text": [
            " * Serving Flask app '__main__'\n",
            " * Debug mode: off\n"
          ]
        },
        {
          "output_type": "stream",
          "name": "stderr",
          "text": [
            "INFO:werkzeug:\u001b[31m\u001b[1mWARNING: This is a development server. Do not use it in a production deployment. Use a production WSGI server instead.\u001b[0m\n",
            " * Running on http://127.0.0.1:5000\n",
            "INFO:werkzeug:\u001b[33mPress CTRL+C to quit\u001b[0m\n"
          ]
        }
      ]
    },
    {
      "cell_type": "code",
      "source": [
        "import requests\n",
        "\n",
        "# Menentukan URL API\n",
        "url = 'http://localhost:5000/detect'\n",
        "\n",
        "# Membuka file gambar yang akan dideteksi\n",
        "image_file = open('image.jpg', 'rb')\n",
        "\n",
        "# Membuat permintaan POST ke API dengan file gambar\n",
        "response = requests.post(url, files={'image': image_file})\n",
        "\n",
        "# Mengecek kode status respon\n",
        "if response.status_code == 200:\n",
        "    # Mengambil hasil deteksi dari respon JSON\n",
        "    detections = response.json()['detections']\n",
        "    \n",
        "    # Menampilkan hasil deteksi\n",
        "    for detection in detections:\n",
        "        class_name = detection['class']\n",
        "        confidence = detection['confidence']\n",
        "        bounding_box = detection['bounding_box']\n",
        "        \n",
        "        print('Class:', class_name)\n",
        "        print('Confidence:', confidence)\n",
        "        print('Bounding Box:', bounding_box)\n",
        "        print('---')\n",
        "else:\n",
        "    print('Error:', response.text)\n"
      ],
      "metadata": {
        "colab": {
          "base_uri": "https://localhost:8080/",
          "height": 235
        },
        "id": "F2Xgqg9TdRfB",
        "outputId": "1113f275-ab18-4253-d627-fe4fffdd93f0"
      },
      "execution_count": 8,
      "outputs": [
        {
          "output_type": "error",
          "ename": "FileNotFoundError",
          "evalue": "ignored",
          "traceback": [
            "\u001b[0;31m---------------------------------------------------------------------------\u001b[0m",
            "\u001b[0;31mFileNotFoundError\u001b[0m                         Traceback (most recent call last)",
            "\u001b[0;32m<ipython-input-8-4be1f1d7d308>\u001b[0m in \u001b[0;36m<cell line: 7>\u001b[0;34m()\u001b[0m\n\u001b[1;32m      5\u001b[0m \u001b[0;34m\u001b[0m\u001b[0m\n\u001b[1;32m      6\u001b[0m \u001b[0;31m# Membuka file gambar yang akan dideteksi\u001b[0m\u001b[0;34m\u001b[0m\u001b[0;34m\u001b[0m\u001b[0m\n\u001b[0;32m----> 7\u001b[0;31m \u001b[0mimage_file\u001b[0m \u001b[0;34m=\u001b[0m \u001b[0mopen\u001b[0m\u001b[0;34m(\u001b[0m\u001b[0;34m'image.jpg'\u001b[0m\u001b[0;34m,\u001b[0m \u001b[0;34m'rb'\u001b[0m\u001b[0;34m)\u001b[0m\u001b[0;34m\u001b[0m\u001b[0;34m\u001b[0m\u001b[0m\n\u001b[0m\u001b[1;32m      8\u001b[0m \u001b[0;34m\u001b[0m\u001b[0m\n\u001b[1;32m      9\u001b[0m \u001b[0;31m# Membuat permintaan POST ke API dengan file gambar\u001b[0m\u001b[0;34m\u001b[0m\u001b[0;34m\u001b[0m\u001b[0m\n",
            "\u001b[0;31mFileNotFoundError\u001b[0m: [Errno 2] No such file or directory: 'image.jpg'"
          ]
        }
      ]
    }
  ]
}